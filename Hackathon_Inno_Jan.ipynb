{
 "cells": [
  {
   "cell_type": "code",
   "execution_count": 113,
   "id": "7a519951-646e-469a-9552-f0735c527478",
   "metadata": {},
   "outputs": [],
   "source": [
    "import numpy as np\n",
    "import pandas as pd"
   ]
  },
  {
   "cell_type": "code",
   "execution_count": 114,
   "id": "b37fed81-9892-4b65-834d-cc513766ea6c",
   "metadata": {},
   "outputs": [],
   "source": [
    "movies = pd.read_csv(r\"C:\\Users\\rajath.k\\Downloads\\movie_data\\movies.csv\")\n",
    "ratings = pd.read_csv(r\"C:\\Users\\rajath.k\\Downloads\\movie_data\\ratings.csv\")\n",
    "links = pd.read_csv(r\"C:\\Users\\rajath.k\\Downloads\\movie_data\\links.csv\")\n",
    "tags = pd.read_csv(r\"C:\\Users\\rajath.k\\Downloads\\movie_data\\tags.csv\")\n",
    "#data.shape\n"
   ]
  },
  {
   "cell_type": "code",
   "execution_count": 115,
   "id": "5223c23b-13c9-4b5e-b498-55b23d466e84",
   "metadata": {},
   "outputs": [
    {
     "data": {
      "text/html": [
       "<div>\n",
       "<style scoped>\n",
       "    .dataframe tbody tr th:only-of-type {\n",
       "        vertical-align: middle;\n",
       "    }\n",
       "\n",
       "    .dataframe tbody tr th {\n",
       "        vertical-align: top;\n",
       "    }\n",
       "\n",
       "    .dataframe thead th {\n",
       "        text-align: right;\n",
       "    }\n",
       "</style>\n",
       "<table border=\"1\" class=\"dataframe\">\n",
       "  <thead>\n",
       "    <tr style=\"text-align: right;\">\n",
       "      <th></th>\n",
       "      <th>movieId</th>\n",
       "      <th>title</th>\n",
       "      <th>genres</th>\n",
       "    </tr>\n",
       "  </thead>\n",
       "  <tbody>\n",
       "    <tr>\n",
       "      <th>0</th>\n",
       "      <td>1</td>\n",
       "      <td>Toy Story (1995)</td>\n",
       "      <td>Adventure|Animation|Children|Comedy|Fantasy</td>\n",
       "    </tr>\n",
       "    <tr>\n",
       "      <th>1</th>\n",
       "      <td>2</td>\n",
       "      <td>Jumanji (1995)</td>\n",
       "      <td>Adventure|Children|Fantasy</td>\n",
       "    </tr>\n",
       "    <tr>\n",
       "      <th>2</th>\n",
       "      <td>3</td>\n",
       "      <td>Grumpier Old Men (1995)</td>\n",
       "      <td>Comedy|Romance</td>\n",
       "    </tr>\n",
       "    <tr>\n",
       "      <th>3</th>\n",
       "      <td>4</td>\n",
       "      <td>Waiting to Exhale (1995)</td>\n",
       "      <td>Comedy|Drama|Romance</td>\n",
       "    </tr>\n",
       "    <tr>\n",
       "      <th>4</th>\n",
       "      <td>5</td>\n",
       "      <td>Father of the Bride Part II (1995)</td>\n",
       "      <td>Comedy</td>\n",
       "    </tr>\n",
       "  </tbody>\n",
       "</table>\n",
       "</div>"
      ],
      "text/plain": [
       "   movieId                               title  \\\n",
       "0        1                    Toy Story (1995)   \n",
       "1        2                      Jumanji (1995)   \n",
       "2        3             Grumpier Old Men (1995)   \n",
       "3        4            Waiting to Exhale (1995)   \n",
       "4        5  Father of the Bride Part II (1995)   \n",
       "\n",
       "                                        genres  \n",
       "0  Adventure|Animation|Children|Comedy|Fantasy  \n",
       "1                   Adventure|Children|Fantasy  \n",
       "2                               Comedy|Romance  \n",
       "3                         Comedy|Drama|Romance  \n",
       "4                                       Comedy  "
      ]
     },
     "execution_count": 115,
     "metadata": {},
     "output_type": "execute_result"
    }
   ],
   "source": [
    "movies.head()"
   ]
  },
  {
   "cell_type": "code",
   "execution_count": 116,
   "id": "cb5ebb3b-001e-4bf8-a6e5-1a7fa4f68d3a",
   "metadata": {},
   "outputs": [
    {
     "data": {
      "text/html": [
       "<div>\n",
       "<style scoped>\n",
       "    .dataframe tbody tr th:only-of-type {\n",
       "        vertical-align: middle;\n",
       "    }\n",
       "\n",
       "    .dataframe tbody tr th {\n",
       "        vertical-align: top;\n",
       "    }\n",
       "\n",
       "    .dataframe thead th {\n",
       "        text-align: right;\n",
       "    }\n",
       "</style>\n",
       "<table border=\"1\" class=\"dataframe\">\n",
       "  <thead>\n",
       "    <tr style=\"text-align: right;\">\n",
       "      <th></th>\n",
       "      <th>userId</th>\n",
       "      <th>movieId</th>\n",
       "      <th>rating</th>\n",
       "      <th>timestamp</th>\n",
       "    </tr>\n",
       "  </thead>\n",
       "  <tbody>\n",
       "    <tr>\n",
       "      <th>0</th>\n",
       "      <td>1</td>\n",
       "      <td>1</td>\n",
       "      <td>4.0</td>\n",
       "      <td>964982703</td>\n",
       "    </tr>\n",
       "    <tr>\n",
       "      <th>1</th>\n",
       "      <td>1</td>\n",
       "      <td>3</td>\n",
       "      <td>4.0</td>\n",
       "      <td>964981247</td>\n",
       "    </tr>\n",
       "    <tr>\n",
       "      <th>2</th>\n",
       "      <td>1</td>\n",
       "      <td>6</td>\n",
       "      <td>4.0</td>\n",
       "      <td>964982224</td>\n",
       "    </tr>\n",
       "    <tr>\n",
       "      <th>3</th>\n",
       "      <td>1</td>\n",
       "      <td>47</td>\n",
       "      <td>5.0</td>\n",
       "      <td>964983815</td>\n",
       "    </tr>\n",
       "    <tr>\n",
       "      <th>4</th>\n",
       "      <td>1</td>\n",
       "      <td>50</td>\n",
       "      <td>5.0</td>\n",
       "      <td>964982931</td>\n",
       "    </tr>\n",
       "  </tbody>\n",
       "</table>\n",
       "</div>"
      ],
      "text/plain": [
       "   userId  movieId  rating  timestamp\n",
       "0       1        1     4.0  964982703\n",
       "1       1        3     4.0  964981247\n",
       "2       1        6     4.0  964982224\n",
       "3       1       47     5.0  964983815\n",
       "4       1       50     5.0  964982931"
      ]
     },
     "execution_count": 116,
     "metadata": {},
     "output_type": "execute_result"
    }
   ],
   "source": [
    "ratings.head()"
   ]
  },
  {
   "cell_type": "code",
   "execution_count": 117,
   "id": "e222cbb7-6b69-4d29-b537-15980d153078",
   "metadata": {},
   "outputs": [
    {
     "data": {
      "text/html": [
       "<div>\n",
       "<style scoped>\n",
       "    .dataframe tbody tr th:only-of-type {\n",
       "        vertical-align: middle;\n",
       "    }\n",
       "\n",
       "    .dataframe tbody tr th {\n",
       "        vertical-align: top;\n",
       "    }\n",
       "\n",
       "    .dataframe thead th {\n",
       "        text-align: right;\n",
       "    }\n",
       "</style>\n",
       "<table border=\"1\" class=\"dataframe\">\n",
       "  <thead>\n",
       "    <tr style=\"text-align: right;\">\n",
       "      <th></th>\n",
       "      <th>movieId</th>\n",
       "      <th>imdbId</th>\n",
       "      <th>tmdbId</th>\n",
       "    </tr>\n",
       "  </thead>\n",
       "  <tbody>\n",
       "    <tr>\n",
       "      <th>0</th>\n",
       "      <td>1</td>\n",
       "      <td>114709</td>\n",
       "      <td>862.0</td>\n",
       "    </tr>\n",
       "    <tr>\n",
       "      <th>1</th>\n",
       "      <td>2</td>\n",
       "      <td>113497</td>\n",
       "      <td>8844.0</td>\n",
       "    </tr>\n",
       "    <tr>\n",
       "      <th>2</th>\n",
       "      <td>3</td>\n",
       "      <td>113228</td>\n",
       "      <td>15602.0</td>\n",
       "    </tr>\n",
       "    <tr>\n",
       "      <th>3</th>\n",
       "      <td>4</td>\n",
       "      <td>114885</td>\n",
       "      <td>31357.0</td>\n",
       "    </tr>\n",
       "    <tr>\n",
       "      <th>4</th>\n",
       "      <td>5</td>\n",
       "      <td>113041</td>\n",
       "      <td>11862.0</td>\n",
       "    </tr>\n",
       "  </tbody>\n",
       "</table>\n",
       "</div>"
      ],
      "text/plain": [
       "   movieId  imdbId   tmdbId\n",
       "0        1  114709    862.0\n",
       "1        2  113497   8844.0\n",
       "2        3  113228  15602.0\n",
       "3        4  114885  31357.0\n",
       "4        5  113041  11862.0"
      ]
     },
     "execution_count": 117,
     "metadata": {},
     "output_type": "execute_result"
    }
   ],
   "source": [
    "links.head()"
   ]
  },
  {
   "cell_type": "code",
   "execution_count": 118,
   "id": "5a96e6cd-e502-43cc-a648-5406b5c4fa9c",
   "metadata": {},
   "outputs": [
    {
     "data": {
      "text/html": [
       "<div>\n",
       "<style scoped>\n",
       "    .dataframe tbody tr th:only-of-type {\n",
       "        vertical-align: middle;\n",
       "    }\n",
       "\n",
       "    .dataframe tbody tr th {\n",
       "        vertical-align: top;\n",
       "    }\n",
       "\n",
       "    .dataframe thead th {\n",
       "        text-align: right;\n",
       "    }\n",
       "</style>\n",
       "<table border=\"1\" class=\"dataframe\">\n",
       "  <thead>\n",
       "    <tr style=\"text-align: right;\">\n",
       "      <th></th>\n",
       "      <th>userId</th>\n",
       "      <th>movieId</th>\n",
       "      <th>tag</th>\n",
       "      <th>timestamp</th>\n",
       "    </tr>\n",
       "  </thead>\n",
       "  <tbody>\n",
       "    <tr>\n",
       "      <th>0</th>\n",
       "      <td>2</td>\n",
       "      <td>60756</td>\n",
       "      <td>funny</td>\n",
       "      <td>1445714994</td>\n",
       "    </tr>\n",
       "    <tr>\n",
       "      <th>1</th>\n",
       "      <td>2</td>\n",
       "      <td>60756</td>\n",
       "      <td>Highly quotable</td>\n",
       "      <td>1445714996</td>\n",
       "    </tr>\n",
       "    <tr>\n",
       "      <th>2</th>\n",
       "      <td>2</td>\n",
       "      <td>60756</td>\n",
       "      <td>will ferrell</td>\n",
       "      <td>1445714992</td>\n",
       "    </tr>\n",
       "    <tr>\n",
       "      <th>3</th>\n",
       "      <td>2</td>\n",
       "      <td>89774</td>\n",
       "      <td>Boxing story</td>\n",
       "      <td>1445715207</td>\n",
       "    </tr>\n",
       "    <tr>\n",
       "      <th>4</th>\n",
       "      <td>2</td>\n",
       "      <td>89774</td>\n",
       "      <td>MMA</td>\n",
       "      <td>1445715200</td>\n",
       "    </tr>\n",
       "  </tbody>\n",
       "</table>\n",
       "</div>"
      ],
      "text/plain": [
       "   userId  movieId              tag   timestamp\n",
       "0       2    60756            funny  1445714994\n",
       "1       2    60756  Highly quotable  1445714996\n",
       "2       2    60756     will ferrell  1445714992\n",
       "3       2    89774     Boxing story  1445715207\n",
       "4       2    89774              MMA  1445715200"
      ]
     },
     "execution_count": 118,
     "metadata": {},
     "output_type": "execute_result"
    }
   ],
   "source": [
    "tags.head()"
   ]
  },
  {
   "cell_type": "code",
   "execution_count": 119,
   "id": "821c3a6c-8890-4b96-99ef-efc5a32abfb0",
   "metadata": {},
   "outputs": [
    {
     "data": {
      "text/plain": [
       "610"
      ]
     },
     "execution_count": 119,
     "metadata": {},
     "output_type": "execute_result"
    }
   ],
   "source": [
    "len(ratings.userId.unique())"
   ]
  },
  {
   "cell_type": "code",
   "execution_count": 120,
   "id": "17900d32-066a-4201-a42f-46e573705c10",
   "metadata": {},
   "outputs": [],
   "source": [
    "maxi = ratings.rating.max()"
   ]
  },
  {
   "cell_type": "code",
   "execution_count": 121,
   "id": "8992003b-33d5-47e4-b416-846440c46b70",
   "metadata": {},
   "outputs": [
    {
     "data": {
      "text/plain": [
       "True"
      ]
     },
     "execution_count": 121,
     "metadata": {},
     "output_type": "execute_result"
    }
   ],
   "source": [
    "max_ratings = ratings[ratings.rating == maxi].movieId\n",
    "\n",
    "318 in max_userid"
   ]
  },
  {
   "cell_type": "code",
   "execution_count": 122,
   "id": "4cb50fc0-eb03-4e9e-97bc-1c6717df38c5",
   "metadata": {},
   "outputs": [
    {
     "name": "stdout",
     "output_type": "stream",
     "text": [
      "<class 'pandas.core.frame.DataFrame'>\n",
      "RangeIndex: 100836 entries, 0 to 100835\n",
      "Data columns (total 4 columns):\n",
      " #   Column     Non-Null Count   Dtype  \n",
      "---  ------     --------------   -----  \n",
      " 0   userId     100836 non-null  int64  \n",
      " 1   movieId    100836 non-null  int64  \n",
      " 2   rating     100836 non-null  float64\n",
      " 3   timestamp  100836 non-null  int64  \n",
      "dtypes: float64(1), int64(3)\n",
      "memory usage: 3.1 MB\n"
     ]
    }
   ],
   "source": [
    "ratings.info()"
   ]
  },
  {
   "cell_type": "code",
   "execution_count": 123,
   "id": "4115a645-0782-40a4-8bf8-2384c1419344",
   "metadata": {},
   "outputs": [
    {
     "data": {
      "text/html": [
       "<div>\n",
       "<style scoped>\n",
       "    .dataframe tbody tr th:only-of-type {\n",
       "        vertical-align: middle;\n",
       "    }\n",
       "\n",
       "    .dataframe tbody tr th {\n",
       "        vertical-align: top;\n",
       "    }\n",
       "\n",
       "    .dataframe thead th {\n",
       "        text-align: right;\n",
       "    }\n",
       "</style>\n",
       "<table border=\"1\" class=\"dataframe\">\n",
       "  <thead>\n",
       "    <tr style=\"text-align: right;\">\n",
       "      <th></th>\n",
       "      <th>movieId</th>\n",
       "      <th>title</th>\n",
       "      <th>genres</th>\n",
       "    </tr>\n",
       "  </thead>\n",
       "  <tbody>\n",
       "    <tr>\n",
       "      <th>1939</th>\n",
       "      <td>2571</td>\n",
       "      <td>Matrix, The (1999)</td>\n",
       "      <td>Action|Sci-Fi|Thriller</td>\n",
       "    </tr>\n",
       "  </tbody>\n",
       "</table>\n",
       "</div>"
      ],
      "text/plain": [
       "      movieId               title                  genres\n",
       "1939     2571  Matrix, The (1999)  Action|Sci-Fi|Thriller"
      ]
     },
     "execution_count": 123,
     "metadata": {},
     "output_type": "execute_result"
    }
   ],
   "source": [
    "movies[movies.title == 'Matrix, The (1999)']"
   ]
  },
  {
   "cell_type": "code",
   "execution_count": 124,
   "id": "afbcb8db-1083-4aa0-9705-644dfd3e5763",
   "metadata": {},
   "outputs": [
    {
     "data": {
      "text/html": [
       "<div>\n",
       "<style scoped>\n",
       "    .dataframe tbody tr th:only-of-type {\n",
       "        vertical-align: middle;\n",
       "    }\n",
       "\n",
       "    .dataframe tbody tr th {\n",
       "        vertical-align: top;\n",
       "    }\n",
       "\n",
       "    .dataframe thead th {\n",
       "        text-align: right;\n",
       "    }\n",
       "</style>\n",
       "<table border=\"1\" class=\"dataframe\">\n",
       "  <thead>\n",
       "    <tr style=\"text-align: right;\">\n",
       "      <th></th>\n",
       "      <th>userId</th>\n",
       "      <th>movieId</th>\n",
       "      <th>tag</th>\n",
       "      <th>timestamp</th>\n",
       "    </tr>\n",
       "  </thead>\n",
       "  <tbody>\n",
       "    <tr>\n",
       "      <th>815</th>\n",
       "      <td>424</td>\n",
       "      <td>2571</td>\n",
       "      <td>martial arts</td>\n",
       "      <td>1457842912</td>\n",
       "    </tr>\n",
       "    <tr>\n",
       "      <th>816</th>\n",
       "      <td>424</td>\n",
       "      <td>2571</td>\n",
       "      <td>sci-fi</td>\n",
       "      <td>1457842899</td>\n",
       "    </tr>\n",
       "    <tr>\n",
       "      <th>1646</th>\n",
       "      <td>474</td>\n",
       "      <td>2571</td>\n",
       "      <td>alternate universe</td>\n",
       "      <td>1137204991</td>\n",
       "    </tr>\n",
       "    <tr>\n",
       "      <th>2794</th>\n",
       "      <td>537</td>\n",
       "      <td>2571</td>\n",
       "      <td>philosophy</td>\n",
       "      <td>1424141098</td>\n",
       "    </tr>\n",
       "    <tr>\n",
       "      <th>2795</th>\n",
       "      <td>537</td>\n",
       "      <td>2571</td>\n",
       "      <td>post apocalyptic</td>\n",
       "      <td>1424141101</td>\n",
       "    </tr>\n",
       "  </tbody>\n",
       "</table>\n",
       "</div>"
      ],
      "text/plain": [
       "      userId  movieId                 tag   timestamp\n",
       "815      424     2571        martial arts  1457842912\n",
       "816      424     2571              sci-fi  1457842899\n",
       "1646     474     2571  alternate universe  1137204991\n",
       "2794     537     2571          philosophy  1424141098\n",
       "2795     537     2571    post apocalyptic  1424141101"
      ]
     },
     "execution_count": 124,
     "metadata": {},
     "output_type": "execute_result"
    }
   ],
   "source": [
    "tags[tags.movieId == 2571]"
   ]
  },
  {
   "cell_type": "code",
   "execution_count": 125,
   "id": "a0f16bd5-57e2-402f-a1a4-064b21e17bd7",
   "metadata": {},
   "outputs": [
    {
     "name": "stdout",
     "output_type": "stream",
     "text": [
      "     movieId                              title         genres\n",
      "507      589  Terminator 2: Judgment Day (1991)  Action|Sci-Fi\n"
     ]
    },
    {
     "data": {
      "text/plain": [
       "3.970982142857143"
      ]
     },
     "execution_count": 125,
     "metadata": {},
     "output_type": "execute_result"
    }
   ],
   "source": [
    "print(movies[movies.title == 'Terminator 2: Judgment Day (1991)'])\n",
    "\n",
    "\n",
    "ratings[ratings.movieId == 589].rating.mean()"
   ]
  },
  {
   "cell_type": "code",
   "execution_count": 126,
   "id": "8a98ba7e-d78f-4c6f-92fc-a99ec27afa62",
   "metadata": {},
   "outputs": [
    {
     "name": "stdout",
     "output_type": "stream",
     "text": [
      "329\n",
      "317\n",
      "278\n",
      "307\n"
     ]
    }
   ],
   "source": [
    "print(len(ratings[ratings.movieId == 356].rating)) #forestgump\n",
    "print(len(ratings[ratings.movieId == 318].rating)) #shawshank\n",
    "print(len(ratings[ratings.movieId == 2571].rating)) #matrix\n",
    "print(len(ratings[ratings.movieId == 296].rating)) #pulpfiction"
   ]
  },
  {
   "cell_type": "code",
   "execution_count": 127,
   "id": "72fb0387-017a-4f72-a59e-e692e20aebda",
   "metadata": {},
   "outputs": [
    {
     "name": "stdout",
     "output_type": "stream",
     "text": [
      "      movieId              title                       genres\n",
      "2226     2959  Fight Club (1999)  Action|Crime|Drama|Thriller\n"
     ]
    },
    {
     "data": {
      "text/html": [
       "<div>\n",
       "<style scoped>\n",
       "    .dataframe tbody tr th:only-of-type {\n",
       "        vertical-align: middle;\n",
       "    }\n",
       "\n",
       "    .dataframe tbody tr th {\n",
       "        vertical-align: top;\n",
       "    }\n",
       "\n",
       "    .dataframe thead th {\n",
       "        text-align: right;\n",
       "    }\n",
       "</style>\n",
       "<table border=\"1\" class=\"dataframe\">\n",
       "  <thead>\n",
       "    <tr style=\"text-align: right;\">\n",
       "      <th></th>\n",
       "      <th>userId</th>\n",
       "      <th>movieId</th>\n",
       "      <th>rating</th>\n",
       "      <th>timestamp</th>\n",
       "    </tr>\n",
       "  </thead>\n",
       "  <tbody>\n",
       "    <tr>\n",
       "      <th>192</th>\n",
       "      <td>1</td>\n",
       "      <td>2959</td>\n",
       "      <td>5.0</td>\n",
       "      <td>964983282</td>\n",
       "    </tr>\n",
       "    <tr>\n",
       "      <th>458</th>\n",
       "      <td>4</td>\n",
       "      <td>2959</td>\n",
       "      <td>2.0</td>\n",
       "      <td>945078528</td>\n",
       "    </tr>\n",
       "    <tr>\n",
       "      <th>1134</th>\n",
       "      <td>10</td>\n",
       "      <td>2959</td>\n",
       "      <td>0.5</td>\n",
       "      <td>1455356582</td>\n",
       "    </tr>\n",
       "    <tr>\n",
       "      <th>1479</th>\n",
       "      <td>15</td>\n",
       "      <td>2959</td>\n",
       "      <td>2.5</td>\n",
       "      <td>1510571747</td>\n",
       "    </tr>\n",
       "    <tr>\n",
       "      <th>1635</th>\n",
       "      <td>16</td>\n",
       "      <td>2959</td>\n",
       "      <td>3.5</td>\n",
       "      <td>1377476874</td>\n",
       "    </tr>\n",
       "    <tr>\n",
       "      <th>...</th>\n",
       "      <td>...</td>\n",
       "      <td>...</td>\n",
       "      <td>...</td>\n",
       "      <td>...</td>\n",
       "    </tr>\n",
       "    <tr>\n",
       "      <th>95893</th>\n",
       "      <td>601</td>\n",
       "      <td>2959</td>\n",
       "      <td>5.0</td>\n",
       "      <td>1441639461</td>\n",
       "    </tr>\n",
       "    <tr>\n",
       "      <th>96788</th>\n",
       "      <td>603</td>\n",
       "      <td>2959</td>\n",
       "      <td>4.0</td>\n",
       "      <td>963176105</td>\n",
       "    </tr>\n",
       "    <tr>\n",
       "      <th>97835</th>\n",
       "      <td>606</td>\n",
       "      <td>2959</td>\n",
       "      <td>5.0</td>\n",
       "      <td>1171231517</td>\n",
       "    </tr>\n",
       "    <tr>\n",
       "      <th>99107</th>\n",
       "      <td>608</td>\n",
       "      <td>2959</td>\n",
       "      <td>5.0</td>\n",
       "      <td>1117336631</td>\n",
       "    </tr>\n",
       "    <tr>\n",
       "      <th>99699</th>\n",
       "      <td>610</td>\n",
       "      <td>2959</td>\n",
       "      <td>5.0</td>\n",
       "      <td>1479541966</td>\n",
       "    </tr>\n",
       "  </tbody>\n",
       "</table>\n",
       "<p>218 rows × 4 columns</p>\n",
       "</div>"
      ],
      "text/plain": [
       "       userId  movieId  rating   timestamp\n",
       "192         1     2959     5.0   964983282\n",
       "458         4     2959     2.0   945078528\n",
       "1134       10     2959     0.5  1455356582\n",
       "1479       15     2959     2.5  1510571747\n",
       "1635       16     2959     3.5  1377476874\n",
       "...       ...      ...     ...         ...\n",
       "95893     601     2959     5.0  1441639461\n",
       "96788     603     2959     4.0   963176105\n",
       "97835     606     2959     5.0  1171231517\n",
       "99107     608     2959     5.0  1117336631\n",
       "99699     610     2959     5.0  1479541966\n",
       "\n",
       "[218 rows x 4 columns]"
      ]
     },
     "execution_count": 127,
     "metadata": {},
     "output_type": "execute_result"
    }
   ],
   "source": [
    "print(movies[movies.title == 'Fight Club (1999)'])\n",
    "fightclub_rating = ratings[ratings.movieId == 2959].rating\n",
    "ratings[ratings.movieId == 2959]"
   ]
  },
  {
   "cell_type": "code",
   "execution_count": 130,
   "id": "6219baff-f25d-4d9d-8005-b02b46339dc1",
   "metadata": {},
   "outputs": [
    {
     "data": {
      "image/png": "[encoded data removed]",
      "text/plain": [
       "<Figure size 432x288 with 1 Axes>"
      ]
     },
     "metadata": {
      "needs_background": "light"
     },
     "output_type": "display_data"
    }
   ],
   "source": [
    "import seaborn as sns\n",
    "import matplotlib.pyplot as plt\n",
    "import numpy as np\n",
    "\n",
    "# Plot\n",
    "sns.kdeplot(fightclub_rating)\n",
    "\n",
    "plt.xlabel(' Ratings')\n",
    "plt.ylabel('Range')\n",
    "\n",
    "plt.show()"
   ]
  },
  {
   "cell_type": "code",
   "execution_count": 131,
   "id": "f0dd033c-edf1-48db-bb79-62b7bb69e465",
   "metadata": {},
   "outputs": [],
   "source": [
    "# Mandatory 1"
   ]
  },
  {
   "cell_type": "code",
   "execution_count": 181,
   "id": "065a191f-3094-402e-a8da-f770a4cfe564",
   "metadata": {},
   "outputs": [
    {
     "data": {
      "text/html": [
       "<div>\n",
       "<style scoped>\n",
       "    .dataframe tbody tr th:only-of-type {\n",
       "        vertical-align: middle;\n",
       "    }\n",
       "\n",
       "    .dataframe tbody tr th {\n",
       "        vertical-align: top;\n",
       "    }\n",
       "\n",
       "    .dataframe thead th {\n",
       "        text-align: right;\n",
       "    }\n",
       "</style>\n",
       "<table border=\"1\" class=\"dataframe\">\n",
       "  <thead>\n",
       "    <tr style=\"text-align: right;\">\n",
       "      <th></th>\n",
       "      <th>userId</th>\n",
       "      <th>movieId</th>\n",
       "      <th>rating</th>\n",
       "      <th>timestamp</th>\n",
       "    </tr>\n",
       "  </thead>\n",
       "  <tbody>\n",
       "    <tr>\n",
       "      <th>100831</th>\n",
       "      <td>610</td>\n",
       "      <td>166534</td>\n",
       "      <td>4.0</td>\n",
       "      <td>1493848402</td>\n",
       "    </tr>\n",
       "    <tr>\n",
       "      <th>100832</th>\n",
       "      <td>610</td>\n",
       "      <td>168248</td>\n",
       "      <td>5.0</td>\n",
       "      <td>1493850091</td>\n",
       "    </tr>\n",
       "    <tr>\n",
       "      <th>100833</th>\n",
       "      <td>610</td>\n",
       "      <td>168250</td>\n",
       "      <td>5.0</td>\n",
       "      <td>1494273047</td>\n",
       "    </tr>\n",
       "    <tr>\n",
       "      <th>100834</th>\n",
       "      <td>610</td>\n",
       "      <td>168252</td>\n",
       "      <td>5.0</td>\n",
       "      <td>1493846352</td>\n",
       "    </tr>\n",
       "    <tr>\n",
       "      <th>100835</th>\n",
       "      <td>610</td>\n",
       "      <td>170875</td>\n",
       "      <td>3.0</td>\n",
       "      <td>1493846415</td>\n",
       "    </tr>\n",
       "  </tbody>\n",
       "</table>\n",
       "</div>"
      ],
      "text/plain": [
       "        userId  movieId  rating   timestamp\n",
       "100831     610   166534     4.0  1493848402\n",
       "100832     610   168248     5.0  1493850091\n",
       "100833     610   168250     5.0  1494273047\n",
       "100834     610   168252     5.0  1493846352\n",
       "100835     610   170875     3.0  1493846415"
      ]
     },
     "execution_count": 181,
     "metadata": {},
     "output_type": "execute_result"
    }
   ],
   "source": [
    "ratings.tail()"
   ]
  },
  {
   "cell_type": "code",
   "execution_count": 179,
   "id": "3bb8731a-fe64-4965-9356-c18a58b6a0ea",
   "metadata": {},
   "outputs": [
    {
     "name": "stdout",
     "output_type": "stream",
     "text": [
      "<class 'pandas.core.groupby.generic.DataFrameGroupBy'>\n",
      "<class 'pandas.core.frame.DataFrame'>\n"
     ]
    },
    {
     "data": {
      "text/html": [
       "<div>\n",
       "<style scoped>\n",
       "    .dataframe tbody tr th:only-of-type {\n",
       "        vertical-align: middle;\n",
       "    }\n",
       "\n",
       "    .dataframe tbody tr th {\n",
       "        vertical-align: top;\n",
       "    }\n",
       "\n",
       "    .dataframe thead th {\n",
       "        text-align: right;\n",
       "    }\n",
       "</style>\n",
       "<table border=\"1\" class=\"dataframe\">\n",
       "  <thead>\n",
       "    <tr style=\"text-align: right;\">\n",
       "      <th></th>\n",
       "      <th>userId</th>\n",
       "      <th>movieId</th>\n",
       "      <th>rating</th>\n",
       "      <th>timestamp</th>\n",
       "    </tr>\n",
       "  </thead>\n",
       "  <tbody>\n",
       "    <tr>\n",
       "      <th>0</th>\n",
       "      <td>1</td>\n",
       "      <td>1</td>\n",
       "      <td>4.0</td>\n",
       "      <td>964982703</td>\n",
       "    </tr>\n",
       "    <tr>\n",
       "      <th>1</th>\n",
       "      <td>1</td>\n",
       "      <td>3</td>\n",
       "      <td>4.0</td>\n",
       "      <td>964981247</td>\n",
       "    </tr>\n",
       "    <tr>\n",
       "      <th>2</th>\n",
       "      <td>1</td>\n",
       "      <td>6</td>\n",
       "      <td>4.0</td>\n",
       "      <td>964982224</td>\n",
       "    </tr>\n",
       "    <tr>\n",
       "      <th>3</th>\n",
       "      <td>1</td>\n",
       "      <td>47</td>\n",
       "      <td>5.0</td>\n",
       "      <td>964983815</td>\n",
       "    </tr>\n",
       "    <tr>\n",
       "      <th>4</th>\n",
       "      <td>1</td>\n",
       "      <td>50</td>\n",
       "      <td>5.0</td>\n",
       "      <td>964982931</td>\n",
       "    </tr>\n",
       "    <tr>\n",
       "      <th>...</th>\n",
       "      <td>...</td>\n",
       "      <td>...</td>\n",
       "      <td>...</td>\n",
       "      <td>...</td>\n",
       "    </tr>\n",
       "    <tr>\n",
       "      <th>100823</th>\n",
       "      <td>610</td>\n",
       "      <td>160836</td>\n",
       "      <td>3.0</td>\n",
       "      <td>1493844794</td>\n",
       "    </tr>\n",
       "    <tr>\n",
       "      <th>100825</th>\n",
       "      <td>610</td>\n",
       "      <td>161634</td>\n",
       "      <td>4.0</td>\n",
       "      <td>1493848362</td>\n",
       "    </tr>\n",
       "    <tr>\n",
       "      <th>100827</th>\n",
       "      <td>610</td>\n",
       "      <td>163937</td>\n",
       "      <td>3.5</td>\n",
       "      <td>1493848789</td>\n",
       "    </tr>\n",
       "    <tr>\n",
       "      <th>100828</th>\n",
       "      <td>610</td>\n",
       "      <td>163981</td>\n",
       "      <td>3.5</td>\n",
       "      <td>1493850155</td>\n",
       "    </tr>\n",
       "    <tr>\n",
       "      <th>100835</th>\n",
       "      <td>610</td>\n",
       "      <td>170875</td>\n",
       "      <td>3.0</td>\n",
       "      <td>1493846415</td>\n",
       "    </tr>\n",
       "  </tbody>\n",
       "</table>\n",
       "<p>28812 rows × 4 columns</p>\n",
       "</div>"
      ],
      "text/plain": [
       "        userId  movieId  rating   timestamp\n",
       "0            1        1     4.0   964982703\n",
       "1            1        3     4.0   964981247\n",
       "2            1        6     4.0   964982224\n",
       "3            1       47     5.0   964983815\n",
       "4            1       50     5.0   964982931\n",
       "...        ...      ...     ...         ...\n",
       "100823     610   160836     3.0  1493844794\n",
       "100825     610   161634     4.0  1493848362\n",
       "100827     610   163937     3.5  1493848789\n",
       "100828     610   163981     3.5  1493850155\n",
       "100835     610   170875     3.0  1493846415\n",
       "\n",
       "[28812 rows x 4 columns]"
      ]
     },
     "execution_count": 179,
     "metadata": {},
     "output_type": "execute_result"
    }
   ],
   "source": [
    "movie_grp = ratings.groupby('movieId')\n",
    "\n",
    "#type(movie_grp)\n",
    "\n",
    "#movie_grp = pd.DataFrame(movie_grp)\n",
    "print(type(movie_grp))\n",
    "print(type(movies))\n",
    "\n",
    "grp_column = list(movie_grp.obj.columns)\n",
    "movie_grp.head()"
   ]
  },
  {
   "cell_type": "code",
   "execution_count": 182,
   "id": "3c72bbb3-c958-4260-9bff-11c36f313efc",
   "metadata": {},
   "outputs": [
    {
     "data": {
      "text/html": [
       "<div>\n",
       "<style scoped>\n",
       "    .dataframe tbody tr th:only-of-type {\n",
       "        vertical-align: middle;\n",
       "    }\n",
       "\n",
       "    .dataframe tbody tr th {\n",
       "        vertical-align: top;\n",
       "    }\n",
       "\n",
       "    .dataframe thead th {\n",
       "        text-align: right;\n",
       "    }\n",
       "</style>\n",
       "<table border=\"1\" class=\"dataframe\">\n",
       "  <thead>\n",
       "    <tr style=\"text-align: right;\">\n",
       "      <th></th>\n",
       "      <th>0</th>\n",
       "      <th>1</th>\n",
       "    </tr>\n",
       "  </thead>\n",
       "  <tbody>\n",
       "    <tr>\n",
       "      <th>9719</th>\n",
       "      <td>193581</td>\n",
       "      <td>userId  movieId  rating   timestamp\n",
       "272...</td>\n",
       "    </tr>\n",
       "    <tr>\n",
       "      <th>9720</th>\n",
       "      <td>193583</td>\n",
       "      <td>userId  movieId  rating   timestamp\n",
       "272...</td>\n",
       "    </tr>\n",
       "    <tr>\n",
       "      <th>9721</th>\n",
       "      <td>193585</td>\n",
       "      <td>userId  movieId  rating   timestamp\n",
       "272...</td>\n",
       "    </tr>\n",
       "    <tr>\n",
       "      <th>9722</th>\n",
       "      <td>193587</td>\n",
       "      <td>userId  movieId  rating   timestamp\n",
       "272...</td>\n",
       "    </tr>\n",
       "    <tr>\n",
       "      <th>9723</th>\n",
       "      <td>193609</td>\n",
       "      <td>userId  movieId  rating   timestamp\n",
       "513...</td>\n",
       "    </tr>\n",
       "  </tbody>\n",
       "</table>\n",
       "</div>"
      ],
      "text/plain": [
       "           0                                                  1\n",
       "9719  193581         userId  movieId  rating   timestamp\n",
       "272...\n",
       "9720  193583         userId  movieId  rating   timestamp\n",
       "272...\n",
       "9721  193585         userId  movieId  rating   timestamp\n",
       "272...\n",
       "9722  193587         userId  movieId  rating   timestamp\n",
       "272...\n",
       "9723  193609         userId  movieId  rating   timestamp\n",
       "513..."
      ]
     },
     "execution_count": 182,
     "metadata": {},
     "output_type": "execute_result"
    }
   ],
   "source": [
    "movie_grp = pd.DataFrame(movie_grp)\n",
    "movie_grp.tail()"
   ]
  },
  {
   "cell_type": "code",
   "execution_count": null,
   "id": "4fe8d31a-af07-4810-81a6-46e97a32aac8",
   "metadata": {},
   "outputs": [],
   "source": [
    "mov_rat_injoin = pd.merge(movie_grp, movies, on='movieId', how='inner')"
   ]
  },
  {
   "cell_type": "code",
   "execution_count": 183,
   "id": "ecc24ae6-1b92-45be-a4b0-be18a594724b",
   "metadata": {},
   "outputs": [],
   "source": [
    "# questions"
   ]
  },
  {
   "cell_type": "code",
   "execution_count": 190,
   "id": "f783ea3b-d5b3-4b90-a9e6-e50332aa81c3",
   "metadata": {},
   "outputs": [
    {
     "name": "stdout",
     "output_type": "stream",
     "text": [
      "     movieId                  title       genres\n",
      "659      858  Godfather, The (1972)  Crime|Drama\n",
      "4.2890625\n",
      "     movieId                             title       genres\n",
      "277      318  Shawshank Redemption, The (1994)  Crime|Drama\n",
      "4.429022082018927\n",
      "   movieId           title                      genres\n",
      "1        2  Jumanji (1995)  Adventure|Children|Fantasy\n",
      "3.4318181818181817\n",
      "      movieId                            title              genres\n",
      "8305   106782  Wolf of Wall Street, The (2013)  Comedy|Crime|Drama\n",
      "3.9166666666666665\n"
     ]
    }
   ],
   "source": [
    "print(movies[movies.title == 'Godfather, The (1972)'])\n",
    "print(ratings[ratings.movieId == 858].rating.mean()) #Godfather\n",
    "print(movies[movies.title == 'Shawshank Redemption, The (1994)'])\n",
    "print(ratings[ratings.movieId == 318].rating.mean()) #Shawshank Redemption, The (1994)\n",
    "print(movies[movies.title == 'Jumanji (1995)'])\n",
    "print(ratings[ratings.movieId == 2].rating.mean()) #Godfather\n",
    "print(movies[movies.title == 'Wolf of Wall Street, The (2013)'])\n",
    "print(ratings[ratings.movieId == 106782].rating.mean()) #Godfather"
   ]
  },
  {
   "cell_type": "code",
   "execution_count": 274,
   "id": "0a6c6cc6-2f59-4cef-a040-0fb6b399cb6b",
   "metadata": {},
   "outputs": [
    {
     "data": {
      "text/html": [
       "<div>\n",
       "<style scoped>\n",
       "    .dataframe tbody tr th:only-of-type {\n",
       "        vertical-align: middle;\n",
       "    }\n",
       "\n",
       "    .dataframe tbody tr th {\n",
       "        vertical-align: top;\n",
       "    }\n",
       "\n",
       "    .dataframe thead th {\n",
       "        text-align: right;\n",
       "    }\n",
       "</style>\n",
       "<table border=\"1\" class=\"dataframe\">\n",
       "  <thead>\n",
       "    <tr style=\"text-align: right;\">\n",
       "      <th></th>\n",
       "      <th>userId</th>\n",
       "      <th>rating</th>\n",
       "      <th>timestamp</th>\n",
       "    </tr>\n",
       "    <tr>\n",
       "      <th>movieId</th>\n",
       "      <th></th>\n",
       "      <th></th>\n",
       "      <th></th>\n",
       "    </tr>\n",
       "  </thead>\n",
       "  <tbody>\n",
       "    <tr>\n",
       "      <th>356</th>\n",
       "      <td>329</td>\n",
       "      <td>329</td>\n",
       "      <td>329</td>\n",
       "    </tr>\n",
       "    <tr>\n",
       "      <th>318</th>\n",
       "      <td>317</td>\n",
       "      <td>317</td>\n",
       "      <td>317</td>\n",
       "    </tr>\n",
       "    <tr>\n",
       "      <th>296</th>\n",
       "      <td>307</td>\n",
       "      <td>307</td>\n",
       "      <td>307</td>\n",
       "    </tr>\n",
       "    <tr>\n",
       "      <th>593</th>\n",
       "      <td>279</td>\n",
       "      <td>279</td>\n",
       "      <td>279</td>\n",
       "    </tr>\n",
       "    <tr>\n",
       "      <th>2571</th>\n",
       "      <td>278</td>\n",
       "      <td>278</td>\n",
       "      <td>278</td>\n",
       "    </tr>\n",
       "  </tbody>\n",
       "</table>\n",
       "</div>"
      ],
      "text/plain": [
       "         userId  rating  timestamp\n",
       "movieId                           \n",
       "356         329     329        329\n",
       "318         317     317        317\n",
       "296         307     307        307\n",
       "593         279     279        279\n",
       "2571        278     278        278"
      ]
     },
     "execution_count": 274,
     "metadata": {},
     "output_type": "execute_result"
    }
   ],
   "source": [
    "#2 question"
   ]
  },
  {
   "cell_type": "code",
   "execution_count": 256,
   "id": "3acc99a6-78c1-44da-85bc-761ac96b4cdb",
   "metadata": {},
   "outputs": [
    {
     "name": "stdout",
     "output_type": "stream",
     "text": [
      "     movieId                title                       genres\n",
      "257      296  Pulp Fiction (1994)  Comedy|Crime|Drama|Thriller\n",
      "307\n",
      "     movieId            title                              genres\n",
      "118      145  Bad Boys (1995)  Action|Comedy|Crime|Drama|Thriller\n",
      "51\n",
      "     movieId                             title                 genres\n",
      "510      593  Silence of the Lambs, The (1991)  Crime|Horror|Thriller\n",
      "279\n",
      "      movieId               title                  genres\n",
      "1939     2571  Matrix, The (1999)  Action|Sci-Fi|Thriller\n",
      "278\n"
     ]
    }
   ],
   "source": [
    "# no of user ratings\n",
    "print(movies[movies.title == 'Pulp Fiction (1994)'])\n",
    "print(len(ratings[ratings.movieId == 296].rating))\n",
    "\n",
    "print(movies[movies.title == 'Bad Boys (1995)'])\n",
    "print(len(ratings[ratings.movieId == 145].rating))\n",
    "\n",
    "print(movies[movies.title == 'Silence of the Lambs, The (1991)'])\n",
    "print(len(ratings[ratings.movieId == 593].rating))\n",
    "\n",
    "print(movies[movies.title == 'Matrix, The (1999)'])\n",
    "print(len(ratings[ratings.movieId == 2571].rating))"
   ]
  },
  {
   "cell_type": "code",
   "execution_count": 275,
   "id": "a8118802-9dcb-4ec6-a6e8-ad2191352a3a",
   "metadata": {},
   "outputs": [
    {
     "data": {
      "text/html": [
       "<div>\n",
       "<style scoped>\n",
       "    .dataframe tbody tr th:only-of-type {\n",
       "        vertical-align: middle;\n",
       "    }\n",
       "\n",
       "    .dataframe tbody tr th {\n",
       "        vertical-align: top;\n",
       "    }\n",
       "\n",
       "    .dataframe thead th {\n",
       "        text-align: right;\n",
       "    }\n",
       "</style>\n",
       "<table border=\"1\" class=\"dataframe\">\n",
       "  <thead>\n",
       "    <tr style=\"text-align: right;\">\n",
       "      <th></th>\n",
       "      <th>userId</th>\n",
       "      <th>rating</th>\n",
       "      <th>timestamp</th>\n",
       "    </tr>\n",
       "    <tr>\n",
       "      <th>movieId</th>\n",
       "      <th></th>\n",
       "      <th></th>\n",
       "      <th></th>\n",
       "    </tr>\n",
       "  </thead>\n",
       "  <tbody>\n",
       "    <tr>\n",
       "      <th>356</th>\n",
       "      <td>329</td>\n",
       "      <td>329</td>\n",
       "      <td>329</td>\n",
       "    </tr>\n",
       "    <tr>\n",
       "      <th>318</th>\n",
       "      <td>317</td>\n",
       "      <td>317</td>\n",
       "      <td>317</td>\n",
       "    </tr>\n",
       "    <tr>\n",
       "      <th>296</th>\n",
       "      <td>307</td>\n",
       "      <td>307</td>\n",
       "      <td>307</td>\n",
       "    </tr>\n",
       "    <tr>\n",
       "      <th>593</th>\n",
       "      <td>279</td>\n",
       "      <td>279</td>\n",
       "      <td>279</td>\n",
       "    </tr>\n",
       "    <tr>\n",
       "      <th>2571</th>\n",
       "      <td>278</td>\n",
       "      <td>278</td>\n",
       "      <td>278</td>\n",
       "    </tr>\n",
       "  </tbody>\n",
       "</table>\n",
       "</div>"
      ],
      "text/plain": [
       "         userId  rating  timestamp\n",
       "movieId                           \n",
       "356         329     329        329\n",
       "318         317     317        317\n",
       "296         307     307        307\n",
       "593         279     279        279\n",
       "2571        278     278        278"
      ]
     },
     "execution_count": 275,
     "metadata": {},
     "output_type": "execute_result"
    }
   ],
   "source": [
    "rating_grp = ratings.groupby('movieId').count().sort_values('userId', ascending=False)\n",
    "# a = rating_grp.movieId\n",
    "# list(a)\n",
    "#print(type(rating_grp))\n",
    "# df = pd.DataFrame({'movieId': list(a),\n",
    "#                 'rating': list(rating_grp.rating)})\n",
    "#rating_grp = rating_grp.sort_values(ascending=False)\n",
    "rating_grp.head()\n",
    "# df.head()"
   ]
  },
  {
   "cell_type": "code",
   "execution_count": 276,
   "id": "cc927861-1c7c-4c8d-a966-00faa39cb93a",
   "metadata": {},
   "outputs": [
    {
     "data": {
      "text/html": [
       "<div>\n",
       "<style scoped>\n",
       "    .dataframe tbody tr th:only-of-type {\n",
       "        vertical-align: middle;\n",
       "    }\n",
       "\n",
       "    .dataframe tbody tr th {\n",
       "        vertical-align: top;\n",
       "    }\n",
       "\n",
       "    .dataframe thead th {\n",
       "        text-align: right;\n",
       "    }\n",
       "</style>\n",
       "<table border=\"1\" class=\"dataframe\">\n",
       "  <thead>\n",
       "    <tr style=\"text-align: right;\">\n",
       "      <th></th>\n",
       "      <th>movieId</th>\n",
       "      <th>title</th>\n",
       "      <th>genres</th>\n",
       "    </tr>\n",
       "  </thead>\n",
       "  <tbody>\n",
       "    <tr>\n",
       "      <th>0</th>\n",
       "      <td>1</td>\n",
       "      <td>Toy Story (1995)</td>\n",
       "      <td>Adventure|Animation|Children|Comedy|Fantasy</td>\n",
       "    </tr>\n",
       "    <tr>\n",
       "      <th>1</th>\n",
       "      <td>2</td>\n",
       "      <td>Jumanji (1995)</td>\n",
       "      <td>Adventure|Children|Fantasy</td>\n",
       "    </tr>\n",
       "    <tr>\n",
       "      <th>2</th>\n",
       "      <td>3</td>\n",
       "      <td>Grumpier Old Men (1995)</td>\n",
       "      <td>Comedy|Romance</td>\n",
       "    </tr>\n",
       "    <tr>\n",
       "      <th>3</th>\n",
       "      <td>4</td>\n",
       "      <td>Waiting to Exhale (1995)</td>\n",
       "      <td>Comedy|Drama|Romance</td>\n",
       "    </tr>\n",
       "    <tr>\n",
       "      <th>4</th>\n",
       "      <td>5</td>\n",
       "      <td>Father of the Bride Part II (1995)</td>\n",
       "      <td>Comedy</td>\n",
       "    </tr>\n",
       "  </tbody>\n",
       "</table>\n",
       "</div>"
      ],
      "text/plain": [
       "   movieId                               title  \\\n",
       "0        1                    Toy Story (1995)   \n",
       "1        2                      Jumanji (1995)   \n",
       "2        3             Grumpier Old Men (1995)   \n",
       "3        4            Waiting to Exhale (1995)   \n",
       "4        5  Father of the Bride Part II (1995)   \n",
       "\n",
       "                                        genres  \n",
       "0  Adventure|Animation|Children|Comedy|Fantasy  \n",
       "1                   Adventure|Children|Fantasy  \n",
       "2                               Comedy|Romance  \n",
       "3                         Comedy|Drama|Romance  \n",
       "4                                       Comedy  "
      ]
     },
     "execution_count": 276,
     "metadata": {},
     "output_type": "execute_result"
    }
   ],
   "source": [
    "#3 question\n",
    "\n",
    "movies.head()"
   ]
  },
  {
   "cell_type": "code",
   "execution_count": 308,
   "id": "7e7d62a6-8842-4b0d-890d-2059d4f2798d",
   "metadata": {},
   "outputs": [
    {
     "name": "stdout",
     "output_type": "stream",
     "text": [
      "980\n"
     ]
    }
   ],
   "source": [
    "genre_list = []\n",
    "for gen in movies.genres:\n",
    "    if 'sci' in gen.lower():\n",
    "        genre_list.append(gen)\n",
    "        \n",
    "print(len(genre_list))\n",
    "\n",
    "# for gen in movies.genres:\n",
    "#     if 'sci' in gen.lower():\n",
    "#         print(gen)"
   ]
  },
  {
   "cell_type": "code",
   "execution_count": 315,
   "id": "5fc9ea51-ef24-4823-86cd-90e121d9e0ab",
   "metadata": {},
   "outputs": [
    {
     "data": {
      "text/plain": [
       "pandas.core.series.Series"
      ]
     },
     "execution_count": 315,
     "metadata": {},
     "output_type": "execute_result"
    }
   ],
   "source": [
    "scif = movies[movies.genres.str.contains('Sci-Fi')].movieId\n"
   ]
  },
  {
   "cell_type": "code",
   "execution_count": 317,
   "id": "3a57dc27-baf6-41f4-aec1-ec8024e22698",
   "metadata": {},
   "outputs": [
    {
     "data": {
      "text/html": [
       "<div>\n",
       "<style scoped>\n",
       "    .dataframe tbody tr th:only-of-type {\n",
       "        vertical-align: middle;\n",
       "    }\n",
       "\n",
       "    .dataframe tbody tr th {\n",
       "        vertical-align: top;\n",
       "    }\n",
       "\n",
       "    .dataframe thead th {\n",
       "        text-align: right;\n",
       "    }\n",
       "</style>\n",
       "<table border=\"1\" class=\"dataframe\">\n",
       "  <thead>\n",
       "    <tr style=\"text-align: right;\">\n",
       "      <th></th>\n",
       "      <th>userId</th>\n",
       "      <th>movieId</th>\n",
       "      <th>rating</th>\n",
       "      <th>timestamp</th>\n",
       "    </tr>\n",
       "  </thead>\n",
       "  <tbody>\n",
       "    <tr>\n",
       "      <th>0</th>\n",
       "      <td>1</td>\n",
       "      <td>260</td>\n",
       "      <td>5.0</td>\n",
       "      <td>964981680</td>\n",
       "    </tr>\n",
       "    <tr>\n",
       "      <th>1</th>\n",
       "      <td>4</td>\n",
       "      <td>260</td>\n",
       "      <td>5.0</td>\n",
       "      <td>945079259</td>\n",
       "    </tr>\n",
       "    <tr>\n",
       "      <th>2</th>\n",
       "      <td>7</td>\n",
       "      <td>260</td>\n",
       "      <td>5.0</td>\n",
       "      <td>1106635933</td>\n",
       "    </tr>\n",
       "    <tr>\n",
       "      <th>3</th>\n",
       "      <td>15</td>\n",
       "      <td>260</td>\n",
       "      <td>5.0</td>\n",
       "      <td>1510571946</td>\n",
       "    </tr>\n",
       "    <tr>\n",
       "      <th>4</th>\n",
       "      <td>16</td>\n",
       "      <td>260</td>\n",
       "      <td>3.0</td>\n",
       "      <td>1377476936</td>\n",
       "    </tr>\n",
       "  </tbody>\n",
       "</table>\n",
       "</div>"
      ],
      "text/plain": [
       "   userId  movieId  rating   timestamp\n",
       "0       1      260     5.0   964981680\n",
       "1       4      260     5.0   945079259\n",
       "2       7      260     5.0  1106635933\n",
       "3      15      260     5.0  1510571946\n",
       "4      16      260     3.0  1377476936"
      ]
     },
     "execution_count": 317,
     "metadata": {},
     "output_type": "execute_result"
    }
   ],
   "source": [
    "pop_scifi = pd.merge(rating, scif, on='movieId', how='inner')\n",
    "\n",
    "pop_scifi.head()"
   ]
  },
  {
   "cell_type": "code",
   "execution_count": 319,
   "id": "0eec2205-5d91-4954-bcd5-3771df9c0d4c",
   "metadata": {},
   "outputs": [
    {
     "data": {
      "text/html": [
       "<div>\n",
       "<style scoped>\n",
       "    .dataframe tbody tr th:only-of-type {\n",
       "        vertical-align: middle;\n",
       "    }\n",
       "\n",
       "    .dataframe tbody tr th {\n",
       "        vertical-align: top;\n",
       "    }\n",
       "\n",
       "    .dataframe thead th {\n",
       "        text-align: right;\n",
       "    }\n",
       "</style>\n",
       "<table border=\"1\" class=\"dataframe\">\n",
       "  <thead>\n",
       "    <tr style=\"text-align: right;\">\n",
       "      <th></th>\n",
       "      <th>userId</th>\n",
       "      <th>rating</th>\n",
       "      <th>timestamp</th>\n",
       "    </tr>\n",
       "    <tr>\n",
       "      <th>movieId</th>\n",
       "      <th></th>\n",
       "      <th></th>\n",
       "      <th></th>\n",
       "    </tr>\n",
       "  </thead>\n",
       "  <tbody>\n",
       "    <tr>\n",
       "      <th>2571</th>\n",
       "      <td>278</td>\n",
       "      <td>278</td>\n",
       "      <td>278</td>\n",
       "    </tr>\n",
       "    <tr>\n",
       "      <th>260</th>\n",
       "      <td>251</td>\n",
       "      <td>251</td>\n",
       "      <td>251</td>\n",
       "    </tr>\n",
       "    <tr>\n",
       "      <th>480</th>\n",
       "      <td>238</td>\n",
       "      <td>238</td>\n",
       "      <td>238</td>\n",
       "    </tr>\n",
       "    <tr>\n",
       "      <th>589</th>\n",
       "      <td>224</td>\n",
       "      <td>224</td>\n",
       "      <td>224</td>\n",
       "    </tr>\n",
       "    <tr>\n",
       "      <th>1196</th>\n",
       "      <td>211</td>\n",
       "      <td>211</td>\n",
       "      <td>211</td>\n",
       "    </tr>\n",
       "  </tbody>\n",
       "</table>\n",
       "</div>"
      ],
      "text/plain": [
       "         userId  rating  timestamp\n",
       "movieId                           \n",
       "2571        278     278        278\n",
       "260         251     251        251\n",
       "480         238     238        238\n",
       "589         224     224        224\n",
       "1196        211     211        211"
      ]
     },
     "execution_count": 319,
     "metadata": {},
     "output_type": "execute_result"
    }
   ],
   "source": [
    "scifi_grp = pop_scifi.groupby('movieId').count().sort_values('userId', ascending=False)\n",
    "\n",
    "scifi_grp.head()"
   ]
  },
  {
   "cell_type": "code",
   "execution_count": 320,
   "id": "4a2e8443-cab8-4661-9518-234b2a674e1f",
   "metadata": {},
   "outputs": [
    {
     "data": {
      "text/html": [
       "<div>\n",
       "<style scoped>\n",
       "    .dataframe tbody tr th:only-of-type {\n",
       "        vertical-align: middle;\n",
       "    }\n",
       "\n",
       "    .dataframe tbody tr th {\n",
       "        vertical-align: top;\n",
       "    }\n",
       "\n",
       "    .dataframe thead th {\n",
       "        text-align: right;\n",
       "    }\n",
       "</style>\n",
       "<table border=\"1\" class=\"dataframe\">\n",
       "  <thead>\n",
       "    <tr style=\"text-align: right;\">\n",
       "      <th></th>\n",
       "      <th>movieId</th>\n",
       "      <th>title</th>\n",
       "      <th>genres</th>\n",
       "    </tr>\n",
       "  </thead>\n",
       "  <tbody>\n",
       "    <tr>\n",
       "      <th>418</th>\n",
       "      <td>480</td>\n",
       "      <td>Jurassic Park (1993)</td>\n",
       "      <td>Action|Adventure|Sci-Fi|Thriller</td>\n",
       "    </tr>\n",
       "  </tbody>\n",
       "</table>\n",
       "</div>"
      ],
      "text/plain": [
       "     movieId                 title                            genres\n",
       "418      480  Jurassic Park (1993)  Action|Adventure|Sci-Fi|Thriller"
      ]
     },
     "execution_count": 320,
     "metadata": {},
     "output_type": "execute_result"
    }
   ],
   "source": [
    "movies.loc[movies.movieId == 480]"
   ]
  },
  {
   "cell_type": "code",
   "execution_count": null,
   "id": "1d027551-6a20-4b41-b518-36d52e152473",
   "metadata": {},
   "outputs": [],
   "source": []
  },
  {
   "cell_type": "code",
   "execution_count": null,
   "id": "d06c7190-879d-476b-89ab-b641076bca12",
   "metadata": {},
   "outputs": [],
   "source": [
    "# We thought of giving you a gift this new year by sharing the web scraping script\n",
    "# Understanding the script before using is always appreciated\n",
    "# We left few blanks in the script for your exploration\n",
    "# Make sure to replace FILL_IN_THE_BLANK in the code to make it work\n",
    "\n",
    "import requests\n",
    "import numpy as np\n",
    "from bs4 import beautifulsoup\n",
    "\n",
    "def scrapper(imdbId):\n",
    "    id = str(int(imdbId))\n",
    "    n_zeroes = 7 - len(id)\n",
    "    new_id = \"0\"*n_zeroes + id\n",
    "    URL = f\"https://www.imdb.com/title/tt{new_id}/\"\n",
    "    request_header = {'Content-Type': 'text/html; charset=UTF-8', \n",
    "                      'User-Agent': 'Mozilla/5.0 (Windows NT 10.0; Win64; x64; rv:109.0) Gecko/20100101 Firefox/119.0', \n",
    "                      'Accept-Encoding': 'gzip, deflate, br'}\n",
    "    response = requests.get(URL, headers=request_header)\n",
    "    soup = beautifulsoup(response.text)\n",
    "    imdb_rating = soup.find('FILL_IN_THE_BLANK', attrs={'p', id='id_name'})\n",
    "    return imdb_rating.text if imdb_rating else np.nan"
   ]
  },
  {
   "cell_type": "code",
   "execution_count": null,
   "id": "27de9f42-fe8f-44ba-a96b-94b42e3b59fc",
   "metadata": {},
   "outputs": [],
   "source": [
    "for iid in links.imdbid:\n",
    "    scrapper(iid)\n"
   ]
  },
  {
   "cell_type": "code",
   "execution_count": 321,
   "id": "d2995d98-628d-43d0-9d6a-5fe54bffc6e6",
   "metadata": {},
   "outputs": [
    {
     "name": "stdout",
     "output_type": "stream",
     "text": [
      "      movieId             title  \\\n",
      "7372    79132  Inception (2010)   \n",
      "\n",
      "                                               genres  \n",
      "7372  Action|Crime|Drama|Mystery|Sci-Fi|Thriller|IMAX  \n"
     ]
    }
   ],
   "source": [
    "## Last question\n",
    "\n",
    "print(movies[movies.title == 'Inception (2010)'])"
   ]
  },
  {
   "cell_type": "code",
   "execution_count": null,
   "id": "beab73b4-8970-4131-b8d7-961ca8027083",
   "metadata": {},
   "outputs": [],
   "source": []
  }
 ],
 "metadata": {
  "kernelspec": {
   "display_name": "Python 3 (ipykernel)",
   "language": "python",
   "name": "python3"
  },
  "language_info": {
   "codemirror_mode": {
    "name": "ipython",
    "version": 3
   },
   "file_extension": ".py",
   "mimetype": "text/x-python",
   "name": "python",
   "nbconvert_exporter": "python",
   "pygments_lexer": "ipython3",
   "version": "3.10.1"
  }
 },
 "nbformat": 4,
 "nbformat_minor": 5
}
